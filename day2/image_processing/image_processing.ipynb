{
 "cells": [
  {
   "cell_type": "markdown",
   "metadata": {},
   "source": [
    "# Image processing demo\n",
    "\n",
    "See PyMoo:\n",
    "https://pymoo.org/index.html"
   ]
  },
  {
   "cell_type": "code",
   "execution_count": null,
   "metadata": {},
   "outputs": [],
   "source": [
    "%matplotlib widget\n",
    "import numpy as np\n",
    "import matplotlib.pyplot as plt\n",
    "from PIL import Image\n",
    "from scipy import ndimage"
   ]
  },
  {
   "cell_type": "code",
   "execution_count": null,
   "metadata": {},
   "outputs": [],
   "source": [
    "path = \"poudre.png\"\n",
    "im = np.asarray(Image.open(path))\n",
    "plt.figure()\n",
    "plt.imshow(im)\n",
    "plt.show()"
   ]
  },
  {
   "cell_type": "code",
   "execution_count": null,
   "metadata": {},
   "outputs": [],
   "source": [
    "imr = im[:300, :, 0]\n",
    "plt.figure()\n",
    "plt.imshow(imr, cmap=\"copper\")\n",
    "plt.colorbar()\n",
    "plt.show()"
   ]
  },
  {
   "cell_type": "code",
   "execution_count": null,
   "metadata": {},
   "outputs": [],
   "source": [
    "plt.figure()\n",
    "plt.hist(imr.flatten(), bins=np.arange(256))\n",
    "plt.grid()\n",
    "plt.xlabel(\"Pixel value\")\n",
    "plt.ylabel(\"Pixel count\")\n",
    "plt.show()"
   ]
  },
  {
   "cell_type": "markdown",
   "metadata": {},
   "source": [
    "## Thresholding\n"
   ]
  },
  {
   "cell_type": "code",
   "execution_count": null,
   "metadata": {},
   "outputs": [],
   "source": [
    "thresh = 50.0\n",
    "imt = (imr > thresh) * 1.0\n",
    "plt.figure()\n",
    "plt.imshow(imt, cmap=\"binary\")\n",
    "plt.colorbar()\n",
    "plt.show()"
   ]
  },
  {
   "cell_type": "code",
   "execution_count": null,
   "metadata": {},
   "outputs": [],
   "source": [
    "ims = ndimage.gaussian_filter(imr, sigma=2)\n",
    "ims = (ndimage.sobel(ims, axis=0) ** 2 + ndimage.sobel(ims, axis=1) ** 2) ** 0.5\n",
    "\n",
    "plt.figure()\n",
    "plt.imshow(ims, cmap=\"jet\")\n",
    "plt.colorbar()\n",
    "plt.show()"
   ]
  },
  {
   "cell_type": "code",
   "execution_count": null,
   "metadata": {},
   "outputs": [],
   "source": [
    "ssize = 31\n",
    "mid = ssize // 2\n",
    "structure = np.ones((ssize, ssize), dtype=np.uint8)\n",
    "for r in range(ssize):\n",
    "    for c in range(ssize):\n",
    "        radius = (r - mid) ** 2 + (c - mid) ** 2\n",
    "        if radius > (ssize / 2) ** 2:\n",
    "            structure[r, c] = 0\n",
    "\n",
    "# EROSION\n",
    "ime = ndimage.binary_erosion(imt, structure=structure)\n",
    "plt.figure()\n",
    "plt.imshow(ime, cmap=\"binary\")\n",
    "plt.colorbar()\n",
    "plt.show()"
   ]
  },
  {
   "cell_type": "code",
   "execution_count": null,
   "metadata": {},
   "outputs": [],
   "source": [
    "ssize // 2"
   ]
  },
  {
   "cell_type": "code",
   "execution_count": null,
   "metadata": {},
   "outputs": [],
   "source": [
    "imtg = ndimage.gaussian_filter(ims, sigma=5)\n",
    "\n",
    "plt.figure()\n",
    "plt.imshow(imtg, cmap=\"jet\")\n",
    "plt.colorbar()\n",
    "plt.show()"
   ]
  },
  {
   "cell_type": "code",
   "execution_count": null,
   "metadata": {},
   "outputs": [],
   "source": [
    "import numba\n",
    "\n",
    "# GENETIC OPTIMIZATION\n",
    "nr, nc = imt.shape\n",
    "\n",
    "\n",
    "@numba.jit\n",
    "def cost(row, col, rad):\n",
    "    score = 0\n",
    "    irow = int(row)\n",
    "    icol = int(col)\n",
    "    irad = int(rad)\n",
    "    for r in range(max(irow - irad - 1, 0), min(irow + irad + 1, nr)):\n",
    "        for c in range(max(icol - irad - 1, 0), min(icol + irad + 1, nc)):\n",
    "            radius = ((r - row) ** 2 + (c - col) ** 2) ** 0.5\n",
    "            if radius <= rad:\n",
    "                pixel = imt[r, c]\n",
    "                if pixel == 1:\n",
    "                    score += 1\n",
    "                elif pixel == 0:\n",
    "                    score -= 10\n",
    "    return score"
   ]
  },
  {
   "cell_type": "code",
   "execution_count": null,
   "metadata": {},
   "outputs": [],
   "source": [
    "imf = np.zeros(imt.shape)\n",
    "\n",
    "rad = 45 / 2\n",
    "for r in range(nr):\n",
    "    for c in range(nc):\n",
    "        imf[r, c] = cost(r, c, rad)"
   ]
  },
  {
   "cell_type": "code",
   "execution_count": null,
   "metadata": {},
   "outputs": [],
   "source": [
    "plt.figure()\n",
    "plt.imshow(np.where(imf >= 0, imf, np.nan))\n",
    "plt.colorbar()"
   ]
  },
  {
   "cell_type": "code",
   "execution_count": null,
   "metadata": {},
   "outputs": [],
   "source": [
    "imt.size"
   ]
  },
  {
   "cell_type": "code",
   "execution_count": null,
   "metadata": {},
   "outputs": [],
   "source": []
  }
 ],
 "metadata": {
  "interpreter": {
   "hash": "2ca6ca49e3d520c90cec32c6a563248ab4569d3afbb476cccf2d03cc5731dd28"
  },
  "kernelspec": {
   "display_name": "Python 3.7.12 ('env1')",
   "language": "python",
   "name": "python3"
  },
  "language_info": {
   "codemirror_mode": {
    "name": "ipython",
    "version": 3
   },
   "file_extension": ".py",
   "mimetype": "text/x-python",
   "name": "python",
   "nbconvert_exporter": "python",
   "pygments_lexer": "ipython3",
   "version": "3.7.12"
  }
 },
 "nbformat": 4,
 "nbformat_minor": 2
}
